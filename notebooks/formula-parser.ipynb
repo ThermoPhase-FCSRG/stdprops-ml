{
 "cells": [
  {
   "cell_type": "markdown",
   "metadata": {},
   "source": [
    "# Chemical Formula parser\n",
    "\n",
    "Convenient function to get the amount of species in a Chemical Formula. Below a bunch of test cases are provided to verify the implementation of the function."
   ]
  },
  {
   "cell_type": "code",
   "execution_count": 2,
   "metadata": {},
   "outputs": [
    {
     "data": {
      "text/plain": [
       "{'NaCl': {'Na': 1, 'Cl': 1},\n",
       " 'H2O': {'H': 2, 'O': 1},\n",
       " 'C6H12O6': {'C': 6, 'H': 12, 'O': 6},\n",
       " 'NH4NO3': {'N': 2, 'H': 4, 'O': 3},\n",
       " '(NH4)2SO4': {'N': 2, 'H': 8, 'S': 1, 'O': 4},\n",
       " 'CH3COOH': {'C': 2, 'H': 4, 'O': 2},\n",
       " 'C2H5OH': {'C': 2, 'H': 6, 'O': 1},\n",
       " 'C12H22O11': {'C': 12, 'H': 22, 'O': 11},\n",
       " 'NaHCO3': {'Na': 1, 'H': 1, 'C': 1, 'O': 3},\n",
       " 'C8H18': {'C': 8, 'H': 18},\n",
       " 'Ca(OH)2': {'O': 2, 'H': 2, 'Ca': 1},\n",
       " 'Al2(SO4)3': {'S': 3, 'O': 12, 'Al': 2},\n",
       " 'K2Cr2O7': {'K': 2, 'Cr': 2, 'O': 7},\n",
       " 'KMnO4': {'K': 1, 'Mn': 1, 'O': 4},\n",
       " 'FeS2': {'Fe': 1, 'S': 2},\n",
       " 'Mg(OH)2': {'O': 2, 'H': 2, 'Mg': 1},\n",
       " 'Na2CO3·10H2O': {'Na': 2, 'C': 1, 'O': 13, 'H': 20},\n",
       " 'CuSO4·5H2O': {'Cu': 1, 'S': 1, 'O': 9, 'H': 10},\n",
       " '(NH4)3PO4': {'N': 3, 'H': 12, 'P': 1, 'O': 4},\n",
       " 'H2SO4': {'H': 2, 'S': 1, 'O': 4},\n",
       " 'Na<sup>+</sup>': {'Na': 1},\n",
       " 'C6H5OH': {'C': 6, 'H': 6, 'O': 1},\n",
       " 'C18H27NO3': {'C': 18, 'H': 27, 'N': 1, 'O': 3},\n",
       " '(CaO)2·MgO·2SiO2': {'Ca': 2, 'O': 7, 'Mg': 1, 'Si': 2},\n",
       " 'Fe2O3': {'Fe': 2, 'O': 3},\n",
       " 'Pb(NO3)2': {'N': 2, 'O': 6, 'Pb': 1},\n",
       " 'MgSO4·7H2O': {'Mg': 1, 'S': 1, 'O': 11, 'H': 14},\n",
       " 'Ca3(PO4)2': {'P': 2, 'O': 8, 'Ca': 3},\n",
       " 'H3PO4': {'H': 3, 'P': 1, 'O': 4},\n",
       " 'C2H3NaO2': {'C': 2, 'H': 3, 'Na': 1, 'O': 2},\n",
       " 'KAl(SO4)2·12H2O': {'S': 2, 'O': 20, 'K': 1, 'Al': 1, 'H': 24}}"
      ]
     },
     "execution_count": 2,
     "metadata": {},
     "output_type": "execute_result"
    }
   ],
   "source": [
    "def parse_chemical_formula(formula: str) -> dict[str, int]:\n",
    "    \"\"\"\n",
    "    Convenient function to parser and get the amount of elements in\n",
    "    chemical species formulas.\n",
    "    \"\"\"\n",
    "    import re\n",
    "    from collections import defaultdict\n",
    "    \n",
    "    # Function to parse a molecule or sub-molecule\n",
    "    def parse_molecule(molecule, multiplier=1):\n",
    "        elements = re.findall(r'([A-Z][a-z]*)(\\d*)', molecule)\n",
    "        for element, count in elements:\n",
    "            count = int(count) if count else 1\n",
    "            element_counts[element] += count * multiplier\n",
    "\n",
    "    # Remove HTML charge notations\n",
    "    formula = re.sub(r'<[^>]+>', '', formula)\n",
    "\n",
    "    # Split the formula into molecules and process each part\n",
    "    element_counts = defaultdict(int)\n",
    "    molecules = formula.split('·')\n",
    "    \n",
    "    for molecule in molecules:\n",
    "        # Handle molecules with and without parentheses\n",
    "        if '(' in molecule:\n",
    "            while '(' in molecule:\n",
    "                # Find and replace the innermost parenthetical expression\n",
    "                sub_molecule, sub_multiplier = re.search(r'\\(([A-Za-z0-9]+)\\)(\\d*)', molecule).groups()\n",
    "                sub_multiplier = int(sub_multiplier) if sub_multiplier else 1\n",
    "                molecule = re.sub(r'\\(([A-Za-z0-9]+)\\)(\\d*)', '', molecule, 1)\n",
    "                parse_molecule(sub_molecule, sub_multiplier)\n",
    "        \n",
    "        # Handle preffix-like multiplier\n",
    "        else:\n",
    "            sub_multiplier, sub_molecule = re.search(r'(\\d*)([A-Za-z0-9]+)', molecule).groups()\n",
    "            sub_multiplier = int(sub_multiplier) if sub_multiplier else 1\n",
    "            molecule = re.sub(r'(\\d*)([A-Za-z0-9]+)', '', molecule, 1)\n",
    "            parse_molecule(sub_molecule, sub_multiplier)\n",
    "            \n",
    "        # Process the remaining parts of the molecule\n",
    "        parse_molecule(molecule)\n",
    "\n",
    "    return dict(element_counts)\n",
    "\n",
    "\n",
    "selected_test_formulas = [\n",
    "    \"NaCl\", \"H2O\", \"C6H12O6\", \"NH4NO3\", \"(NH4)2SO4\", \"CH3COOH\", \"C2H5OH\", \n",
    "    \"C12H22O11\", \"NaHCO3\", \"C8H18\", \"Ca(OH)2\", \"Al2(SO4)3\", \"K2Cr2O7\", \n",
    "    \"KMnO4\", \"FeS2\", \"Mg(OH)2\", \"Na2CO3·10H2O\", \"CuSO4·5H2O\", \"(NH4)3PO4\", \n",
    "    \"H2SO4\", \"Na<sup>+</sup>\", \"C6H5OH\", \"C18H27NO3\", \"(CaO)2·MgO·2SiO2\",\n",
    "    \"Fe2O3\", \"Pb(NO3)2\", \"MgSO4·7H2O\", \"Ca3(PO4)2\", \"H3PO4\", \"C2H3NaO2\",\n",
    "    \"KAl(SO4)2·12H2O\"\n",
    "]\n",
    "\n",
    "# Run the parser on these selected formulas\n",
    "selected_parsed_results = {\n",
    "    formula: parse_chemical_formula(formula) for formula in selected_test_formulas\n",
    "}\n",
    "selected_parsed_results"
   ]
  }
 ],
 "metadata": {
  "jupytext": {
   "formats": "ipynb,py"
  },
  "kernelspec": {
   "display_name": "stdprops",
   "language": "python",
   "name": "python3"
  },
  "language_info": {
   "codemirror_mode": {
    "name": "ipython",
    "version": 3
   },
   "file_extension": ".py",
   "mimetype": "text/x-python",
   "name": "python",
   "nbconvert_exporter": "python",
   "pygments_lexer": "ipython3",
   "version": "3.12.0"
  }
 },
 "nbformat": 4,
 "nbformat_minor": 2
}
