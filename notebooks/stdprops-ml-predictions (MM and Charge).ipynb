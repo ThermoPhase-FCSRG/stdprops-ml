{
 "cells": [
  {
   "cell_type": "markdown",
   "metadata": {},
   "source": [
    "# Machine Learning estimation for std properties\n",
    "\n",
    "Based on the Molar Mass, State of Matter, and Charge, we now create machine learning models to predict the standard free Gibbs energy of formation, enthalpy, entropy, and heat capacities."
   ]
  },
  {
   "cell_type": "markdown",
   "metadata": {},
   "source": [
    "## Required dependencies"
   ]
  },
  {
   "cell_type": "code",
   "execution_count": 1,
   "metadata": {},
   "outputs": [],
   "source": [
    "import pandas as pd\n",
    "\n",
    "import sklearn\n",
    "from sklearn.model_selection import train_test_split\n",
    "from sklearn.preprocessing import StandardScaler\n",
    "from sklearn.neural_network import MLPRegressor\n",
    "\n",
    "from pathlib import Path\n",
    "import os\n",
    "\n",
    "DATA_PATH = Path(os.environ.get(\"DATAPATH\"))\n",
    "sklearn.set_config(transform_output=\"pandas\")"
   ]
  },
  {
   "cell_type": "markdown",
   "metadata": {},
   "source": [
    "## Read preprocessed data"
   ]
  },
  {
   "cell_type": "code",
   "execution_count": 2,
   "metadata": {},
   "outputs": [
    {
     "data": {
      "text/html": [
       "<div>\n",
       "<style scoped>\n",
       "    .dataframe tbody tr th:only-of-type {\n",
       "        vertical-align: middle;\n",
       "    }\n",
       "\n",
       "    .dataframe tbody tr th {\n",
       "        vertical-align: top;\n",
       "    }\n",
       "\n",
       "    .dataframe thead th {\n",
       "        text-align: right;\n",
       "    }\n",
       "</style>\n",
       "<table border=\"1\" class=\"dataframe\">\n",
       "  <thead>\n",
       "    <tr style=\"text-align: right;\">\n",
       "      <th></th>\n",
       "      <th>Formula</th>\n",
       "      <th>State</th>\n",
       "      <th>Molar Mass</th>\n",
       "      <th>deltaH0</th>\n",
       "      <th>deltaG0</th>\n",
       "      <th>S0</th>\n",
       "      <th>Cp</th>\n",
       "      <th>Charge</th>\n",
       "    </tr>\n",
       "  </thead>\n",
       "  <tbody>\n",
       "    <tr>\n",
       "      <th>0</th>\n",
       "      <td>O</td>\n",
       "      <td>g</td>\n",
       "      <td>15.9994</td>\n",
       "      <td>249.170</td>\n",
       "      <td>231.731</td>\n",
       "      <td>161.055</td>\n",
       "      <td>21.912</td>\n",
       "      <td>0.0</td>\n",
       "    </tr>\n",
       "    <tr>\n",
       "      <th>1</th>\n",
       "      <td>O2</td>\n",
       "      <td>g</td>\n",
       "      <td>31.9988</td>\n",
       "      <td>0.000</td>\n",
       "      <td>0.000</td>\n",
       "      <td>205.138</td>\n",
       "      <td>29.355</td>\n",
       "      <td>0.0</td>\n",
       "    </tr>\n",
       "    <tr>\n",
       "      <th>2</th>\n",
       "      <td>O3</td>\n",
       "      <td>g</td>\n",
       "      <td>47.9982</td>\n",
       "      <td>142.700</td>\n",
       "      <td>163.200</td>\n",
       "      <td>238.930</td>\n",
       "      <td>39.200</td>\n",
       "      <td>0.0</td>\n",
       "    </tr>\n",
       "    <tr>\n",
       "      <th>3</th>\n",
       "      <td>H</td>\n",
       "      <td>g</td>\n",
       "      <td>1.0080</td>\n",
       "      <td>217.965</td>\n",
       "      <td>203.247</td>\n",
       "      <td>114.713</td>\n",
       "      <td>20.784</td>\n",
       "      <td>0.0</td>\n",
       "    </tr>\n",
       "    <tr>\n",
       "      <th>4</th>\n",
       "      <td>H&lt;sup&gt;+&lt;/sup&gt;</td>\n",
       "      <td>ao</td>\n",
       "      <td>1.0080</td>\n",
       "      <td>0.000</td>\n",
       "      <td>0.000</td>\n",
       "      <td>0.000</td>\n",
       "      <td>0.000</td>\n",
       "      <td>1.0</td>\n",
       "    </tr>\n",
       "    <tr>\n",
       "      <th>...</th>\n",
       "      <td>...</td>\n",
       "      <td>...</td>\n",
       "      <td>...</td>\n",
       "      <td>...</td>\n",
       "      <td>...</td>\n",
       "      <td>...</td>\n",
       "      <td>...</td>\n",
       "      <td>...</td>\n",
       "    </tr>\n",
       "    <tr>\n",
       "      <th>1515</th>\n",
       "      <td>CsBO2</td>\n",
       "      <td>g</td>\n",
       "      <td>175.7152</td>\n",
       "      <td>-703.300</td>\n",
       "      <td>-708.800</td>\n",
       "      <td>314.410</td>\n",
       "      <td>59.410</td>\n",
       "      <td>0.0</td>\n",
       "    </tr>\n",
       "    <tr>\n",
       "      <th>1516</th>\n",
       "      <td>CsAl(SO4)2·12H2O</td>\n",
       "      <td>cr</td>\n",
       "      <td>568.1949</td>\n",
       "      <td>-6094.800</td>\n",
       "      <td>-5167.400</td>\n",
       "      <td>686.090</td>\n",
       "      <td>614.600</td>\n",
       "      <td>0.0</td>\n",
       "    </tr>\n",
       "    <tr>\n",
       "      <th>1517</th>\n",
       "      <td>CsCuCl3</td>\n",
       "      <td>cr</td>\n",
       "      <td>302.8044</td>\n",
       "      <td>-698.700</td>\n",
       "      <td>-627.100</td>\n",
       "      <td>213.380</td>\n",
       "      <td>127.820</td>\n",
       "      <td>0.0</td>\n",
       "    </tr>\n",
       "    <tr>\n",
       "      <th>1518</th>\n",
       "      <td>Cs2Cr2O7</td>\n",
       "      <td>cr</td>\n",
       "      <td>481.7986</td>\n",
       "      <td>-2088.820</td>\n",
       "      <td>-1908.170</td>\n",
       "      <td>330.080</td>\n",
       "      <td>231.540</td>\n",
       "      <td>0.0</td>\n",
       "    </tr>\n",
       "    <tr>\n",
       "      <th>1519</th>\n",
       "      <td>Cs2UO4</td>\n",
       "      <td>cr</td>\n",
       "      <td>567.8374</td>\n",
       "      <td>-1928.800</td>\n",
       "      <td>-1806.200</td>\n",
       "      <td>219.660</td>\n",
       "      <td>152.760</td>\n",
       "      <td>0.0</td>\n",
       "    </tr>\n",
       "  </tbody>\n",
       "</table>\n",
       "<p>1520 rows × 8 columns</p>\n",
       "</div>"
      ],
      "text/plain": [
       "               Formula State  Molar Mass   deltaH0   deltaG0       S0  \\\n",
       "0                    O     g     15.9994   249.170   231.731  161.055   \n",
       "1                   O2     g     31.9988     0.000     0.000  205.138   \n",
       "2                   O3     g     47.9982   142.700   163.200  238.930   \n",
       "3                    H     g      1.0080   217.965   203.247  114.713   \n",
       "4        H<sup>+</sup>    ao      1.0080     0.000     0.000    0.000   \n",
       "...                ...   ...         ...       ...       ...      ...   \n",
       "1515             CsBO2     g    175.7152  -703.300  -708.800  314.410   \n",
       "1516  CsAl(SO4)2·12H2O    cr    568.1949 -6094.800 -5167.400  686.090   \n",
       "1517           CsCuCl3    cr    302.8044  -698.700  -627.100  213.380   \n",
       "1518          Cs2Cr2O7    cr    481.7986 -2088.820 -1908.170  330.080   \n",
       "1519            Cs2UO4    cr    567.8374 -1928.800 -1806.200  219.660   \n",
       "\n",
       "           Cp  Charge  \n",
       "0      21.912     0.0  \n",
       "1      29.355     0.0  \n",
       "2      39.200     0.0  \n",
       "3      20.784     0.0  \n",
       "4       0.000     1.0  \n",
       "...       ...     ...  \n",
       "1515   59.410     0.0  \n",
       "1516  614.600     0.0  \n",
       "1517  127.820     0.0  \n",
       "1518  231.540     0.0  \n",
       "1519  152.760     0.0  \n",
       "\n",
       "[1520 rows x 8 columns]"
      ]
     },
     "execution_count": 2,
     "metadata": {},
     "output_type": "execute_result"
    }
   ],
   "source": [
    "df_nist_stdprops = pd.read_csv(DATA_PATH / \"NBS_Tables_preprocessed.csv\", index_col=0)\n",
    "\n",
    "df_nist_stdprops"
   ]
  },
  {
   "cell_type": "markdown",
   "metadata": {},
   "source": [
    "## Organizing the data"
   ]
  },
  {
   "cell_type": "markdown",
   "metadata": {},
   "source": [
    "Separating features and targets:"
   ]
  },
  {
   "cell_type": "code",
   "execution_count": 3,
   "metadata": {},
   "outputs": [],
   "source": [
    "features_columns = [\"Molar Mass\", \"Charge\"]\n",
    "target_columns = [\"deltaH0\", \"deltaG0\", \"S0\", \"Cp\"]\n",
    "\n",
    "X = df_nist_stdprops[features_columns]\n",
    "y = df_nist_stdprops[target_columns]"
   ]
  },
  {
   "cell_type": "markdown",
   "metadata": {},
   "source": [
    "Splitting the data:"
   ]
  },
  {
   "cell_type": "code",
   "execution_count": 4,
   "metadata": {},
   "outputs": [],
   "source": [
    "X_train, X_test, y_train, y_test = train_test_split(X, y, random_state=42, test_size=0.2)"
   ]
  },
  {
   "cell_type": "code",
   "execution_count": 5,
   "metadata": {},
   "outputs": [
    {
     "data": {
      "text/html": [
       "<div>\n",
       "<style scoped>\n",
       "    .dataframe tbody tr th:only-of-type {\n",
       "        vertical-align: middle;\n",
       "    }\n",
       "\n",
       "    .dataframe tbody tr th {\n",
       "        vertical-align: top;\n",
       "    }\n",
       "\n",
       "    .dataframe thead th {\n",
       "        text-align: right;\n",
       "    }\n",
       "</style>\n",
       "<table border=\"1\" class=\"dataframe\">\n",
       "  <thead>\n",
       "    <tr style=\"text-align: right;\">\n",
       "      <th></th>\n",
       "      <th>Molar Mass</th>\n",
       "      <th>Charge</th>\n",
       "    </tr>\n",
       "  </thead>\n",
       "  <tbody>\n",
       "    <tr>\n",
       "      <th>1423</th>\n",
       "      <td>174.2656</td>\n",
       "      <td>0.0</td>\n",
       "    </tr>\n",
       "    <tr>\n",
       "      <th>1083</th>\n",
       "      <td>203.3104</td>\n",
       "      <td>0.0</td>\n",
       "    </tr>\n",
       "    <tr>\n",
       "      <th>1435</th>\n",
       "      <td>180.0372</td>\n",
       "      <td>0.0</td>\n",
       "    </tr>\n",
       "    <tr>\n",
       "      <th>111</th>\n",
       "      <td>62.0049</td>\n",
       "      <td>-1.0</td>\n",
       "    </tr>\n",
       "    <tr>\n",
       "      <th>1295</th>\n",
       "      <td>54.9886</td>\n",
       "      <td>0.0</td>\n",
       "    </tr>\n",
       "    <tr>\n",
       "      <th>...</th>\n",
       "      <td>...</td>\n",
       "      <td>...</td>\n",
       "    </tr>\n",
       "    <tr>\n",
       "      <th>1130</th>\n",
       "      <td>145.1493</td>\n",
       "      <td>0.0</td>\n",
       "    </tr>\n",
       "    <tr>\n",
       "      <th>1294</th>\n",
       "      <td>38.9892</td>\n",
       "      <td>0.0</td>\n",
       "    </tr>\n",
       "    <tr>\n",
       "      <th>860</th>\n",
       "      <td>107.9034</td>\n",
       "      <td>0.0</td>\n",
       "    </tr>\n",
       "    <tr>\n",
       "      <th>1459</th>\n",
       "      <td>486.0120</td>\n",
       "      <td>0.0</td>\n",
       "    </tr>\n",
       "    <tr>\n",
       "      <th>1126</th>\n",
       "      <td>136.1416</td>\n",
       "      <td>0.0</td>\n",
       "    </tr>\n",
       "  </tbody>\n",
       "</table>\n",
       "<p>1216 rows × 2 columns</p>\n",
       "</div>"
      ],
      "text/plain": [
       "      Molar Mass  Charge\n",
       "1423    174.2656     0.0\n",
       "1083    203.3104     0.0\n",
       "1435    180.0372     0.0\n",
       "111      62.0049    -1.0\n",
       "1295     54.9886     0.0\n",
       "...          ...     ...\n",
       "1130    145.1493     0.0\n",
       "1294     38.9892     0.0\n",
       "860     107.9034     0.0\n",
       "1459    486.0120     0.0\n",
       "1126    136.1416     0.0\n",
       "\n",
       "[1216 rows x 2 columns]"
      ]
     },
     "execution_count": 5,
     "metadata": {},
     "output_type": "execute_result"
    }
   ],
   "source": [
    "X_train"
   ]
  },
  {
   "cell_type": "code",
   "execution_count": 6,
   "metadata": {},
   "outputs": [
    {
     "data": {
      "text/html": [
       "<div>\n",
       "<style scoped>\n",
       "    .dataframe tbody tr th:only-of-type {\n",
       "        vertical-align: middle;\n",
       "    }\n",
       "\n",
       "    .dataframe tbody tr th {\n",
       "        vertical-align: top;\n",
       "    }\n",
       "\n",
       "    .dataframe thead th {\n",
       "        text-align: right;\n",
       "    }\n",
       "</style>\n",
       "<table border=\"1\" class=\"dataframe\">\n",
       "  <thead>\n",
       "    <tr style=\"text-align: right;\">\n",
       "      <th></th>\n",
       "      <th>deltaH0</th>\n",
       "      <th>deltaG0</th>\n",
       "      <th>S0</th>\n",
       "      <th>Cp</th>\n",
       "    </tr>\n",
       "  </thead>\n",
       "  <tbody>\n",
       "    <tr>\n",
       "      <th>1423</th>\n",
       "      <td>-1437.79</td>\n",
       "      <td>-1321.37</td>\n",
       "      <td>175.56</td>\n",
       "      <td>131.46</td>\n",
       "    </tr>\n",
       "    <tr>\n",
       "      <th>1083</th>\n",
       "      <td>-2499.02</td>\n",
       "      <td>-2114.64</td>\n",
       "      <td>366.10</td>\n",
       "      <td>315.06</td>\n",
       "    </tr>\n",
       "    <tr>\n",
       "      <th>1435</th>\n",
       "      <td>-1180.70</td>\n",
       "      <td>-1035.90</td>\n",
       "      <td>155.02</td>\n",
       "      <td>126.73</td>\n",
       "    </tr>\n",
       "    <tr>\n",
       "      <th>111</th>\n",
       "      <td>-207.36</td>\n",
       "      <td>-111.25</td>\n",
       "      <td>146.40</td>\n",
       "      <td>-86.60</td>\n",
       "    </tr>\n",
       "    <tr>\n",
       "      <th>1295</th>\n",
       "      <td>-260.20</td>\n",
       "      <td>-218.40</td>\n",
       "      <td>115.90</td>\n",
       "      <td>72.13</td>\n",
       "    </tr>\n",
       "    <tr>\n",
       "      <th>...</th>\n",
       "      <td>...</td>\n",
       "      <td>...</td>\n",
       "      <td>...</td>\n",
       "      <td>...</td>\n",
       "    </tr>\n",
       "    <tr>\n",
       "      <th>1130</th>\n",
       "      <td>-1574.65</td>\n",
       "      <td>-1435.78</td>\n",
       "      <td>134.30</td>\n",
       "      <td>124.22</td>\n",
       "    </tr>\n",
       "    <tr>\n",
       "      <th>1294</th>\n",
       "      <td>105.00</td>\n",
       "      <td>82.40</td>\n",
       "      <td>228.60</td>\n",
       "      <td>34.70</td>\n",
       "    </tr>\n",
       "    <tr>\n",
       "      <th>860</th>\n",
       "      <td>-138.00</td>\n",
       "      <td>-163.00</td>\n",
       "      <td>231.82</td>\n",
       "      <td>33.14</td>\n",
       "    </tr>\n",
       "    <tr>\n",
       "      <th>1459</th>\n",
       "      <td>-1229.30</td>\n",
       "      <td>-1078.50</td>\n",
       "      <td>333.90</td>\n",
       "      <td>205.60</td>\n",
       "    </tr>\n",
       "    <tr>\n",
       "      <th>1126</th>\n",
       "      <td>-1434.11</td>\n",
       "      <td>-1321.79</td>\n",
       "      <td>106.70</td>\n",
       "      <td>99.66</td>\n",
       "    </tr>\n",
       "  </tbody>\n",
       "</table>\n",
       "<p>1216 rows × 4 columns</p>\n",
       "</div>"
      ],
      "text/plain": [
       "      deltaH0  deltaG0      S0      Cp\n",
       "1423 -1437.79 -1321.37  175.56  131.46\n",
       "1083 -2499.02 -2114.64  366.10  315.06\n",
       "1435 -1180.70 -1035.90  155.02  126.73\n",
       "111   -207.36  -111.25  146.40  -86.60\n",
       "1295  -260.20  -218.40  115.90   72.13\n",
       "...       ...      ...     ...     ...\n",
       "1130 -1574.65 -1435.78  134.30  124.22\n",
       "1294   105.00    82.40  228.60   34.70\n",
       "860   -138.00  -163.00  231.82   33.14\n",
       "1459 -1229.30 -1078.50  333.90  205.60\n",
       "1126 -1434.11 -1321.79  106.70   99.66\n",
       "\n",
       "[1216 rows x 4 columns]"
      ]
     },
     "execution_count": 6,
     "metadata": {},
     "output_type": "execute_result"
    }
   ],
   "source": [
    "y_train"
   ]
  },
  {
   "cell_type": "markdown",
   "metadata": {},
   "source": [
    "## Data scaling"
   ]
  },
  {
   "cell_type": "code",
   "execution_count": 7,
   "metadata": {},
   "outputs": [],
   "source": [
    "scaler = StandardScaler()  \n",
    "scaler.fit(X_train)\n",
    "X_train_rescaled = scaler.transform(X_train)  \n",
    "X_test_rescaled = scaler.transform(X_test)  "
   ]
  },
  {
   "cell_type": "code",
   "execution_count": 8,
   "metadata": {},
   "outputs": [
    {
     "data": {
      "text/html": [
       "<div>\n",
       "<style scoped>\n",
       "    .dataframe tbody tr th:only-of-type {\n",
       "        vertical-align: middle;\n",
       "    }\n",
       "\n",
       "    .dataframe tbody tr th {\n",
       "        vertical-align: top;\n",
       "    }\n",
       "\n",
       "    .dataframe thead th {\n",
       "        text-align: right;\n",
       "    }\n",
       "</style>\n",
       "<table border=\"1\" class=\"dataframe\">\n",
       "  <thead>\n",
       "    <tr style=\"text-align: right;\">\n",
       "      <th></th>\n",
       "      <th>Molar Mass</th>\n",
       "      <th>Charge</th>\n",
       "    </tr>\n",
       "  </thead>\n",
       "  <tbody>\n",
       "    <tr>\n",
       "      <th>1423</th>\n",
       "      <td>0.012310</td>\n",
       "      <td>-0.067642</td>\n",
       "    </tr>\n",
       "    <tr>\n",
       "      <th>1083</th>\n",
       "      <td>0.204875</td>\n",
       "      <td>-0.067642</td>\n",
       "    </tr>\n",
       "    <tr>\n",
       "      <th>1435</th>\n",
       "      <td>0.050575</td>\n",
       "      <td>-0.067642</td>\n",
       "    </tr>\n",
       "    <tr>\n",
       "      <th>111</th>\n",
       "      <td>-0.731971</td>\n",
       "      <td>-3.494858</td>\n",
       "    </tr>\n",
       "    <tr>\n",
       "      <th>1295</th>\n",
       "      <td>-0.778489</td>\n",
       "      <td>-0.067642</td>\n",
       "    </tr>\n",
       "    <tr>\n",
       "      <th>...</th>\n",
       "      <td>...</td>\n",
       "      <td>...</td>\n",
       "    </tr>\n",
       "    <tr>\n",
       "      <th>1130</th>\n",
       "      <td>-0.180729</td>\n",
       "      <td>-0.067642</td>\n",
       "    </tr>\n",
       "    <tr>\n",
       "      <th>1294</th>\n",
       "      <td>-0.884564</td>\n",
       "      <td>-0.067642</td>\n",
       "    </tr>\n",
       "    <tr>\n",
       "      <th>860</th>\n",
       "      <td>-0.427667</td>\n",
       "      <td>-0.067642</td>\n",
       "    </tr>\n",
       "    <tr>\n",
       "      <th>1459</th>\n",
       "      <td>2.079169</td>\n",
       "      <td>-0.067642</td>\n",
       "    </tr>\n",
       "    <tr>\n",
       "      <th>1126</th>\n",
       "      <td>-0.240450</td>\n",
       "      <td>-0.067642</td>\n",
       "    </tr>\n",
       "  </tbody>\n",
       "</table>\n",
       "<p>1216 rows × 2 columns</p>\n",
       "</div>"
      ],
      "text/plain": [
       "      Molar Mass    Charge\n",
       "1423    0.012310 -0.067642\n",
       "1083    0.204875 -0.067642\n",
       "1435    0.050575 -0.067642\n",
       "111    -0.731971 -3.494858\n",
       "1295   -0.778489 -0.067642\n",
       "...          ...       ...\n",
       "1130   -0.180729 -0.067642\n",
       "1294   -0.884564 -0.067642\n",
       "860    -0.427667 -0.067642\n",
       "1459    2.079169 -0.067642\n",
       "1126   -0.240450 -0.067642\n",
       "\n",
       "[1216 rows x 2 columns]"
      ]
     },
     "execution_count": 8,
     "metadata": {},
     "output_type": "execute_result"
    }
   ],
   "source": [
    "X_train_rescaled"
   ]
  },
  {
   "cell_type": "markdown",
   "metadata": {},
   "source": [
    "## Build the machine learning model (Neural Network, in this case)"
   ]
  },
  {
   "cell_type": "markdown",
   "metadata": {},
   "source": [
    "Initialize the Multilayer Percepton with ADAM:"
   ]
  },
  {
   "cell_type": "code",
   "execution_count": 9,
   "metadata": {},
   "outputs": [],
   "source": [
    "regr = MLPRegressor(\t\n",
    "    solver='adam',\n",
    "    learning_rate='adaptive',\n",
    "    hidden_layer_sizes=(10, 20, 20, 10),  # 10:20:20:10 architecture\n",
    "    random_state=1, \n",
    "    max_iter=10000,  # 10k epochs\n",
    "    tol=1e-5,\n",
    "    n_iter_no_change=1000,\n",
    "    early_stopping=True\n",
    ")"
   ]
  },
  {
   "cell_type": "markdown",
   "metadata": {},
   "source": [
    "Run training:"
   ]
  },
  {
   "cell_type": "code",
   "execution_count": 10,
   "metadata": {},
   "outputs": [
    {
     "data": {
      "text/html": [
       "<style>#sk-container-id-1 {color: black;}#sk-container-id-1 pre{padding: 0;}#sk-container-id-1 div.sk-toggleable {background-color: white;}#sk-container-id-1 label.sk-toggleable__label {cursor: pointer;display: block;width: 100%;margin-bottom: 0;padding: 0.3em;box-sizing: border-box;text-align: center;}#sk-container-id-1 label.sk-toggleable__label-arrow:before {content: \"▸\";float: left;margin-right: 0.25em;color: #696969;}#sk-container-id-1 label.sk-toggleable__label-arrow:hover:before {color: black;}#sk-container-id-1 div.sk-estimator:hover label.sk-toggleable__label-arrow:before {color: black;}#sk-container-id-1 div.sk-toggleable__content {max-height: 0;max-width: 0;overflow: hidden;text-align: left;background-color: #f0f8ff;}#sk-container-id-1 div.sk-toggleable__content pre {margin: 0.2em;color: black;border-radius: 0.25em;background-color: #f0f8ff;}#sk-container-id-1 input.sk-toggleable__control:checked~div.sk-toggleable__content {max-height: 200px;max-width: 100%;overflow: auto;}#sk-container-id-1 input.sk-toggleable__control:checked~label.sk-toggleable__label-arrow:before {content: \"▾\";}#sk-container-id-1 div.sk-estimator input.sk-toggleable__control:checked~label.sk-toggleable__label {background-color: #d4ebff;}#sk-container-id-1 div.sk-label input.sk-toggleable__control:checked~label.sk-toggleable__label {background-color: #d4ebff;}#sk-container-id-1 input.sk-hidden--visually {border: 0;clip: rect(1px 1px 1px 1px);clip: rect(1px, 1px, 1px, 1px);height: 1px;margin: -1px;overflow: hidden;padding: 0;position: absolute;width: 1px;}#sk-container-id-1 div.sk-estimator {font-family: monospace;background-color: #f0f8ff;border: 1px dotted black;border-radius: 0.25em;box-sizing: border-box;margin-bottom: 0.5em;}#sk-container-id-1 div.sk-estimator:hover {background-color: #d4ebff;}#sk-container-id-1 div.sk-parallel-item::after {content: \"\";width: 100%;border-bottom: 1px solid gray;flex-grow: 1;}#sk-container-id-1 div.sk-label:hover label.sk-toggleable__label {background-color: #d4ebff;}#sk-container-id-1 div.sk-serial::before {content: \"\";position: absolute;border-left: 1px solid gray;box-sizing: border-box;top: 0;bottom: 0;left: 50%;z-index: 0;}#sk-container-id-1 div.sk-serial {display: flex;flex-direction: column;align-items: center;background-color: white;padding-right: 0.2em;padding-left: 0.2em;position: relative;}#sk-container-id-1 div.sk-item {position: relative;z-index: 1;}#sk-container-id-1 div.sk-parallel {display: flex;align-items: stretch;justify-content: center;background-color: white;position: relative;}#sk-container-id-1 div.sk-item::before, #sk-container-id-1 div.sk-parallel-item::before {content: \"\";position: absolute;border-left: 1px solid gray;box-sizing: border-box;top: 0;bottom: 0;left: 50%;z-index: -1;}#sk-container-id-1 div.sk-parallel-item {display: flex;flex-direction: column;z-index: 1;position: relative;background-color: white;}#sk-container-id-1 div.sk-parallel-item:first-child::after {align-self: flex-end;width: 50%;}#sk-container-id-1 div.sk-parallel-item:last-child::after {align-self: flex-start;width: 50%;}#sk-container-id-1 div.sk-parallel-item:only-child::after {width: 0;}#sk-container-id-1 div.sk-dashed-wrapped {border: 1px dashed gray;margin: 0 0.4em 0.5em 0.4em;box-sizing: border-box;padding-bottom: 0.4em;background-color: white;}#sk-container-id-1 div.sk-label label {font-family: monospace;font-weight: bold;display: inline-block;line-height: 1.2em;}#sk-container-id-1 div.sk-label-container {text-align: center;}#sk-container-id-1 div.sk-container {/* jupyter's `normalize.less` sets `[hidden] { display: none; }` but bootstrap.min.css set `[hidden] { display: none !important; }` so we also need the `!important` here to be able to override the default hidden behavior on the sphinx rendered scikit-learn.org. See: https://github.com/scikit-learn/scikit-learn/issues/21755 */display: inline-block !important;position: relative;}#sk-container-id-1 div.sk-text-repr-fallback {display: none;}</style><div id=\"sk-container-id-1\" class=\"sk-top-container\"><div class=\"sk-text-repr-fallback\"><pre>MLPRegressor(early_stopping=True, hidden_layer_sizes=(10, 20, 20, 10),\n",
       "             learning_rate=&#x27;adaptive&#x27;, max_iter=10000, n_iter_no_change=1000,\n",
       "             random_state=1, tol=1e-05)</pre><b>In a Jupyter environment, please rerun this cell to show the HTML representation or trust the notebook. <br />On GitHub, the HTML representation is unable to render, please try loading this page with nbviewer.org.</b></div><div class=\"sk-container\" hidden><div class=\"sk-item\"><div class=\"sk-estimator sk-toggleable\"><input class=\"sk-toggleable__control sk-hidden--visually\" id=\"sk-estimator-id-1\" type=\"checkbox\" checked><label for=\"sk-estimator-id-1\" class=\"sk-toggleable__label sk-toggleable__label-arrow\">MLPRegressor</label><div class=\"sk-toggleable__content\"><pre>MLPRegressor(early_stopping=True, hidden_layer_sizes=(10, 20, 20, 10),\n",
       "             learning_rate=&#x27;adaptive&#x27;, max_iter=10000, n_iter_no_change=1000,\n",
       "             random_state=1, tol=1e-05)</pre></div></div></div></div></div>"
      ],
      "text/plain": [
       "MLPRegressor(early_stopping=True, hidden_layer_sizes=(10, 20, 20, 10),\n",
       "             learning_rate='adaptive', max_iter=10000, n_iter_no_change=1000,\n",
       "             random_state=1, tol=1e-05)"
      ]
     },
     "execution_count": 10,
     "metadata": {},
     "output_type": "execute_result"
    }
   ],
   "source": [
    "regr.fit(X_train_rescaled, y_train)"
   ]
  },
  {
   "cell_type": "markdown",
   "metadata": {},
   "source": [
    "Run predictions:"
   ]
  },
  {
   "cell_type": "code",
   "execution_count": 11,
   "metadata": {},
   "outputs": [],
   "source": [
    "y_predict = regr.predict(X_test_rescaled)"
   ]
  },
  {
   "cell_type": "code",
   "execution_count": 12,
   "metadata": {},
   "outputs": [
    {
     "data": {
      "text/plain": [
       "array([[-679.34383629, -616.44914973,  185.46262195,   76.6631843 ],\n",
       "       [-212.87695072, -192.69580667,  145.63100524,   40.24240542],\n",
       "       [-570.769283  , -517.76694546,  179.61885125,   68.7710221 ],\n",
       "       ...,\n",
       "       [-661.86667268, -600.50091373,  184.17384584,   75.35516384],\n",
       "       [-166.71872472, -150.5355498 ,  139.2601702 ,   36.39906915],\n",
       "       [-351.94972221, -320.68236309,  208.26032077,   60.92891452]])"
      ]
     },
     "execution_count": 12,
     "metadata": {},
     "output_type": "execute_result"
    }
   ],
   "source": [
    "y_predict"
   ]
  },
  {
   "cell_type": "code",
   "execution_count": 13,
   "metadata": {},
   "outputs": [
    {
     "data": {
      "text/html": [
       "<div>\n",
       "<style scoped>\n",
       "    .dataframe tbody tr th:only-of-type {\n",
       "        vertical-align: middle;\n",
       "    }\n",
       "\n",
       "    .dataframe tbody tr th {\n",
       "        vertical-align: top;\n",
       "    }\n",
       "\n",
       "    .dataframe thead th {\n",
       "        text-align: right;\n",
       "    }\n",
       "</style>\n",
       "<table border=\"1\" class=\"dataframe\">\n",
       "  <thead>\n",
       "    <tr style=\"text-align: right;\">\n",
       "      <th></th>\n",
       "      <th>deltaH0</th>\n",
       "      <th>deltaG0</th>\n",
       "      <th>S0</th>\n",
       "      <th>Cp</th>\n",
       "    </tr>\n",
       "  </thead>\n",
       "  <tbody>\n",
       "    <tr>\n",
       "      <th>0</th>\n",
       "      <td>-679.343836</td>\n",
       "      <td>-616.449150</td>\n",
       "      <td>185.462622</td>\n",
       "      <td>76.663184</td>\n",
       "    </tr>\n",
       "    <tr>\n",
       "      <th>1</th>\n",
       "      <td>-212.876951</td>\n",
       "      <td>-192.695807</td>\n",
       "      <td>145.631005</td>\n",
       "      <td>40.242405</td>\n",
       "    </tr>\n",
       "    <tr>\n",
       "      <th>2</th>\n",
       "      <td>-570.769283</td>\n",
       "      <td>-517.766945</td>\n",
       "      <td>179.618851</td>\n",
       "      <td>68.771022</td>\n",
       "    </tr>\n",
       "    <tr>\n",
       "      <th>3</th>\n",
       "      <td>-1499.717032</td>\n",
       "      <td>-1363.140435</td>\n",
       "      <td>240.917643</td>\n",
       "      <td>138.287665</td>\n",
       "    </tr>\n",
       "    <tr>\n",
       "      <th>4</th>\n",
       "      <td>-1499.459404</td>\n",
       "      <td>-1362.908669</td>\n",
       "      <td>240.906272</td>\n",
       "      <td>138.267946</td>\n",
       "    </tr>\n",
       "    <tr>\n",
       "      <th>...</th>\n",
       "      <td>...</td>\n",
       "      <td>...</td>\n",
       "      <td>...</td>\n",
       "      <td>...</td>\n",
       "    </tr>\n",
       "    <tr>\n",
       "      <th>299</th>\n",
       "      <td>-180.377125</td>\n",
       "      <td>-163.172526</td>\n",
       "      <td>141.932967</td>\n",
       "      <td>37.576284</td>\n",
       "    </tr>\n",
       "    <tr>\n",
       "      <th>300</th>\n",
       "      <td>-269.715127</td>\n",
       "      <td>-244.169425</td>\n",
       "      <td>151.323652</td>\n",
       "      <td>44.865818</td>\n",
       "    </tr>\n",
       "    <tr>\n",
       "      <th>301</th>\n",
       "      <td>-661.866673</td>\n",
       "      <td>-600.500914</td>\n",
       "      <td>184.173846</td>\n",
       "      <td>75.355164</td>\n",
       "    </tr>\n",
       "    <tr>\n",
       "      <th>302</th>\n",
       "      <td>-166.718725</td>\n",
       "      <td>-150.535550</td>\n",
       "      <td>139.260170</td>\n",
       "      <td>36.399069</td>\n",
       "    </tr>\n",
       "    <tr>\n",
       "      <th>303</th>\n",
       "      <td>-351.949722</td>\n",
       "      <td>-320.682363</td>\n",
       "      <td>208.260321</td>\n",
       "      <td>60.928915</td>\n",
       "    </tr>\n",
       "  </tbody>\n",
       "</table>\n",
       "<p>304 rows × 4 columns</p>\n",
       "</div>"
      ],
      "text/plain": [
       "         deltaH0      deltaG0          S0          Cp\n",
       "0    -679.343836  -616.449150  185.462622   76.663184\n",
       "1    -212.876951  -192.695807  145.631005   40.242405\n",
       "2    -570.769283  -517.766945  179.618851   68.771022\n",
       "3   -1499.717032 -1363.140435  240.917643  138.287665\n",
       "4   -1499.459404 -1362.908669  240.906272  138.267946\n",
       "..           ...          ...         ...         ...\n",
       "299  -180.377125  -163.172526  141.932967   37.576284\n",
       "300  -269.715127  -244.169425  151.323652   44.865818\n",
       "301  -661.866673  -600.500914  184.173846   75.355164\n",
       "302  -166.718725  -150.535550  139.260170   36.399069\n",
       "303  -351.949722  -320.682363  208.260321   60.928915\n",
       "\n",
       "[304 rows x 4 columns]"
      ]
     },
     "execution_count": 13,
     "metadata": {},
     "output_type": "execute_result"
    }
   ],
   "source": [
    "dict_y_predict = {}\n",
    "for id_target, target in enumerate(list(y_train.columns)):\n",
    "    dict_y_predict[target] = y_predict[:, id_target]\n",
    "    \n",
    "df_y_predict = pd.DataFrame.from_dict(dict_y_predict)\n",
    "\n",
    "df_y_predict"
   ]
  },
  {
   "cell_type": "markdown",
   "metadata": {},
   "source": [
    "Check the score:"
   ]
  },
  {
   "cell_type": "code",
   "execution_count": 14,
   "metadata": {},
   "outputs": [
    {
     "data": {
      "text/plain": [
       "-0.23519203984796253"
      ]
     },
     "execution_count": 14,
     "metadata": {},
     "output_type": "execute_result"
    }
   ],
   "source": [
    "regr.score(X_test_rescaled, y_test)"
   ]
  },
  {
   "cell_type": "markdown",
   "metadata": {},
   "source": [
    "## Assess the results"
   ]
  },
  {
   "cell_type": "code",
   "execution_count": 15,
   "metadata": {},
   "outputs": [],
   "source": [
    "import matplotlib.pyplot as plt"
   ]
  },
  {
   "cell_type": "markdown",
   "metadata": {},
   "source": [
    "Check `deltaH0` results:"
   ]
  },
  {
   "cell_type": "code",
   "execution_count": 16,
   "metadata": {},
   "outputs": [
    {
     "data": {
      "image/png": "[encoded data removed]",
      "text/plain": [
       "<Figure size 800x600 with 1 Axes>"
      ]
     },
     "metadata": {},
     "output_type": "display_data"
    }
   ],
   "source": [
    "plt.figure(figsize=(8, 6))\n",
    "\n",
    "plt.plot(X_test[\"Molar Mass\"], y_test[\"deltaH0\"], 'o', label=\"Expected\")\n",
    "plt.plot(X_test[\"Molar Mass\"], df_y_predict[\"deltaH0\"], 'X', label=\"Prediction\")\n",
    "\n",
    "plt.xlabel(\"Molar Mass\")\n",
    "plt.ylabel(\"delta H0\")\n",
    "\n",
    "plt.legend()\n",
    "\n",
    "plt.show()"
   ]
  },
  {
   "cell_type": "markdown",
   "metadata": {},
   "source": [
    "Check `deltaG0` results:"
   ]
  },
  {
   "cell_type": "code",
   "execution_count": 17,
   "metadata": {},
   "outputs": [
    {
     "data": {
      "image/png": "[encoded data removed]",
      "text/plain": [
       "<Figure size 800x600 with 1 Axes>"
      ]
     },
     "metadata": {},
     "output_type": "display_data"
    }
   ],
   "source": [
    "plt.figure(figsize=(8, 6))\n",
    "\n",
    "plt.plot(X_test[\"Molar Mass\"], y_test[\"deltaG0\"], 'o', label=\"Expected\")\n",
    "plt.plot(X_test[\"Molar Mass\"], df_y_predict[\"deltaG0\"], 'X', label=\"Prediction\")\n",
    "\n",
    "plt.xlabel(\"Molar Mass\")\n",
    "plt.ylabel(\"delta G0\")\n",
    "\n",
    "plt.legend()\n",
    "\n",
    "plt.show()"
   ]
  },
  {
   "cell_type": "markdown",
   "metadata": {},
   "source": [
    "Check `S0` results:"
   ]
  },
  {
   "cell_type": "code",
   "execution_count": 18,
   "metadata": {},
   "outputs": [
    {
     "data": {
      "image/png": "[encoded data removed]",
      "text/plain": [
       "<Figure size 800x600 with 1 Axes>"
      ]
     },
     "metadata": {},
     "output_type": "display_data"
    }
   ],
   "source": [
    "plt.figure(figsize=(8, 6))\n",
    "\n",
    "plt.plot(X_test[\"Molar Mass\"], y_test[\"S0\"], 'o', label=\"Expected\")\n",
    "plt.plot(X_test[\"Molar Mass\"], df_y_predict[\"S0\"], 'X', label=\"Prediction\")\n",
    "\n",
    "plt.xlabel(\"Molar Mass\")\n",
    "plt.ylabel(\"S0\")\n",
    "\n",
    "plt.legend()\n",
    "\n",
    "plt.show()"
   ]
  },
  {
   "cell_type": "markdown",
   "metadata": {},
   "source": [
    "Check `Cp` results:"
   ]
  },
  {
   "cell_type": "code",
   "execution_count": 19,
   "metadata": {},
   "outputs": [
    {
     "data": {
      "image/png": "[encoded data removed]",
      "text/plain": [
       "<Figure size 800x600 with 1 Axes>"
      ]
     },
     "metadata": {},
     "output_type": "display_data"
    }
   ],
   "source": [
    "plt.figure(figsize=(8, 6))\n",
    "\n",
    "plt.plot(X_test[\"Molar Mass\"], y_test[\"Cp\"], 'o', label=\"Expected\")\n",
    "plt.plot(X_test[\"Molar Mass\"], df_y_predict[\"Cp\"], 'X', label=\"Prediction\")\n",
    "\n",
    "plt.xlabel(\"Molar Mass\")\n",
    "plt.ylabel(\"Cp\")\n",
    "\n",
    "plt.legend()\n",
    "\n",
    "plt.show()"
   ]
  }
 ],
 "metadata": {
  "jupytext": {
   "formats": "ipynb,py"
  },
  "kernelspec": {
   "display_name": "stdprops",
   "language": "python",
   "name": "python3"
  },
  "language_info": {
   "codemirror_mode": {
    "name": "ipython",
    "version": 3
   },
   "file_extension": ".py",
   "mimetype": "text/x-python",
   "name": "python",
   "nbconvert_exporter": "python",
   "pygments_lexer": "ipython3",
   "version": "3.12.0"
  }
 },
 "nbformat": 4,
 "nbformat_minor": 2
}
